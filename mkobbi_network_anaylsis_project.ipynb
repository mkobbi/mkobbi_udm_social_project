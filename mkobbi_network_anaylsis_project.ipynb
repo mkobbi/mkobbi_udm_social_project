{
 "cells": [
  {
   "cell_type": "markdown",
   "metadata": {},
   "source": [
    "<center> \n",
    "    <h1>\n",
    "        Network Analysis Project\n",
    "    </h1>\n",
    "    <h2>\n",
    "        Social Network Management\n",
    "    </h2>\n",
    "    <h2>\n",
    "        Mahmoud KOBBI\n",
    "           </h2>\n",
    "    <h2>\n",
    "        Paris-Saclay University, Paris, France\n",
    "            </h2>\n",
    "    <h2>\n",
    "        Feb. 09, 2018\n",
    "    </h2>\n",
    "\n",
    "</center>"
   ]
  },
  {
   "cell_type": "markdown",
   "metadata": {},
   "source": [
    "## Setting the environment"
   ]
  },
  {
   "cell_type": "markdown",
   "metadata": {},
   "source": [
    "### Installing requirements"
   ]
  },
  {
   "cell_type": "code",
   "execution_count": 2,
   "metadata": {},
   "outputs": [
    {
     "name": "stdout",
     "output_type": "stream",
     "text": [
      "Collecting python-louvain (from -r requirements.txt (line 1))\n",
      "  Downloading python-louvain-0.10.tar.gz\n",
      "Collecting networkx (from -r requirements.txt (line 2))\n",
      "  Downloading networkx-2.1.zip (1.6MB)\n",
      "\u001b[K    100% |████████████████████████████████| 1.6MB 536kB/s ta 0:00:01\n",
      "\u001b[?25hRequirement already satisfied: matplotlib in /cal/homes/mkobbi/envs/py27/lib/python2.7/site-packages (from -r requirements.txt (line 3))\n",
      "Requirement already satisfied: pandas in /cal/homes/mkobbi/envs/py27/lib/python2.7/site-packages (from -r requirements.txt (line 4))\n",
      "Requirement already satisfied: numpy in /cal/homes/mkobbi/envs/py27/lib/python2.7/site-packages (from -r requirements.txt (line 5))\n",
      "Collecting community (from -r requirements.txt (line 6))\n",
      "  Downloading community-1.0.0b1.tar.gz\n",
      "Requirement already satisfied: decorator>=4.1.0 in /cal/homes/mkobbi/envs/py27/lib/python2.7/site-packages (from networkx->-r requirements.txt (line 2))\n",
      "Requirement already satisfied: python-dateutil>=2.1 in /cal/homes/mkobbi/envs/py27/lib/python2.7/site-packages (from matplotlib->-r requirements.txt (line 3))\n",
      "Requirement already satisfied: subprocess32 in /cal/homes/mkobbi/envs/py27/lib/python2.7/site-packages (from matplotlib->-r requirements.txt (line 3))\n",
      "Requirement already satisfied: cycler>=0.10 in /cal/homes/mkobbi/envs/py27/lib/python2.7/site-packages (from matplotlib->-r requirements.txt (line 3))\n",
      "Requirement already satisfied: six>=1.10 in /cal/homes/mkobbi/envs/py27/lib/python2.7/site-packages (from matplotlib->-r requirements.txt (line 3))\n",
      "Requirement already satisfied: backports.functools-lru-cache in /cal/homes/mkobbi/envs/py27/lib/python2.7/site-packages (from matplotlib->-r requirements.txt (line 3))\n",
      "Requirement already satisfied: pytz in /cal/homes/mkobbi/envs/py27/lib/python2.7/site-packages (from matplotlib->-r requirements.txt (line 3))\n",
      "Requirement already satisfied: pyparsing!=2.0.4,!=2.1.2,!=2.1.6,>=2.0.1 in /cal/homes/mkobbi/envs/py27/lib/python2.7/site-packages (from matplotlib->-r requirements.txt (line 3))\n",
      "Collecting Flask (from community->-r requirements.txt (line 6))\n",
      "  Downloading Flask-0.12.2-py2.py3-none-any.whl (83kB)\n",
      "\u001b[K    100% |████████████████████████████████| 92kB 2.7MB/s ta 0:00:011\n",
      "\u001b[?25hCollecting requests (from community->-r requirements.txt (line 6))\n",
      "  Downloading requests-2.18.4-py2.py3-none-any.whl (88kB)\n",
      "\u001b[K    100% |████████████████████████████████| 92kB 2.6MB/s ta 0:00:011\n",
      "\u001b[?25hCollecting itsdangerous>=0.21 (from Flask->community->-r requirements.txt (line 6))\n",
      "  Downloading itsdangerous-0.24.tar.gz (46kB)\n",
      "\u001b[K    100% |████████████████████████████████| 51kB 2.3MB/s ta 0:00:011\n",
      "\u001b[?25hCollecting click>=2.0 (from Flask->community->-r requirements.txt (line 6))\n",
      "  Downloading click-6.7-py2.py3-none-any.whl (71kB)\n",
      "\u001b[K    100% |████████████████████████████████| 71kB 2.4MB/s ta 0:00:011\n",
      "\u001b[?25hRequirement already satisfied: Jinja2>=2.4 in /cal/homes/mkobbi/envs/py27/lib/python2.7/site-packages (from Flask->community->-r requirements.txt (line 6))\n",
      "Collecting Werkzeug>=0.7 (from Flask->community->-r requirements.txt (line 6))\n",
      "  Downloading Werkzeug-0.14.1-py2.py3-none-any.whl (322kB)\n",
      "\u001b[K    100% |████████████████████████████████| 327kB 1.6MB/s ta 0:00:01\n",
      "\u001b[?25hCollecting urllib3<1.23,>=1.21.1 (from requests->community->-r requirements.txt (line 6))\n",
      "  Downloading urllib3-1.22-py2.py3-none-any.whl (132kB)\n",
      "\u001b[K    100% |████████████████████████████████| 133kB 2.4MB/s ta 0:00:01\n",
      "\u001b[?25hCollecting idna<2.7,>=2.5 (from requests->community->-r requirements.txt (line 6))\n",
      "  Downloading idna-2.6-py2.py3-none-any.whl (56kB)\n",
      "\u001b[K    100% |████████████████████████████████| 61kB 2.6MB/s ta 0:00:011\n",
      "\u001b[?25hCollecting chardet<3.1.0,>=3.0.2 (from requests->community->-r requirements.txt (line 6))\n",
      "  Downloading chardet-3.0.4-py2.py3-none-any.whl (133kB)\n",
      "\u001b[K    100% |████████████████████████████████| 143kB 2.5MB/s ta 0:00:01\n",
      "\u001b[?25hRequirement already satisfied: certifi>=2017.4.17 in /cal/homes/mkobbi/envs/py27/lib/python2.7/site-packages (from requests->community->-r requirements.txt (line 6))\n",
      "Requirement already satisfied: MarkupSafe>=0.23 in /cal/homes/mkobbi/envs/py27/lib/python2.7/site-packages (from Jinja2>=2.4->Flask->community->-r requirements.txt (line 6))\n",
      "Building wheels for collected packages: python-louvain, networkx, community, itsdangerous\n",
      "  Running setup.py bdist_wheel for python-louvain ... \u001b[?25ldone\n",
      "\u001b[?25h  Stored in directory: /cal/homes/mkobbi/.cache/pip/wheels/8b/18/34/89e4c136e90279264bc0b2e3ad7a7991b7b4d18f8009c3f89a\n",
      "  Running setup.py bdist_wheel for networkx ... \u001b[?25ldone\n",
      "\u001b[?25h  Stored in directory: /cal/homes/mkobbi/.cache/pip/wheels/a0/33/4e/7c9228ea77f8090e895d8d2b76f3b5a76997a5b3edeb4e2c6f\n",
      "  Running setup.py bdist_wheel for community ... \u001b[?25ldone\n",
      "\u001b[?25h  Stored in directory: /cal/homes/mkobbi/.cache/pip/wheels/15/45/71/cf7e43b9a06b00a27e264f6c96aec5529d2789f84941bf0056\n",
      "  Running setup.py bdist_wheel for itsdangerous ... \u001b[?25ldone\n",
      "\u001b[?25h  Stored in directory: /cal/homes/mkobbi/.cache/pip/wheels/fc/a8/66/24d655233c757e178d45dea2de22a04c6d92766abfb741129a\n",
      "Successfully built python-louvain networkx community itsdangerous\n",
      "Installing collected packages: networkx, python-louvain, itsdangerous, click, Werkzeug, Flask, urllib3, idna, chardet, requests, community\n",
      "Successfully installed Flask-0.12.2 Werkzeug-0.14.1 chardet-3.0.4 click-6.7 community-1.0.0b1 idna-2.6 itsdangerous-0.24 networkx-2.1 python-louvain-0.10 requests-2.18.4 urllib3-1.22\n"
     ]
    }
   ],
   "source": [
    "!pip install -r  --user requirements.txt"
   ]
  },
  {
   "cell_type": "markdown",
   "metadata": {},
   "source": [
    "### Imports"
   ]
  },
  {
   "cell_type": "code",
   "execution_count": 1,
   "metadata": {},
   "outputs": [],
   "source": [
    "from __future__ import division\n",
    "\n",
    "import collections\n",
    "import gzip\n",
    "from StringIO import StringIO\n",
    "from urllib import urlopen\n",
    "\n",
    "import matplotlib.pyplot as plt\n",
    "import networkx as nx\n",
    "import numpy as np\n",
    "import pandas as pd\n",
    "import random\n",
    "from community import community_louvain as community\n",
    "%matplotlib inline"
   ]
  },
  {
   "cell_type": "markdown",
   "metadata": {},
   "source": [
    "### Generating colors"
   ]
  },
  {
   "cell_type": "code",
   "execution_count": 2,
   "metadata": {},
   "outputs": [],
   "source": [
    "colors = plt.cm.colors._colors_full_map.keys()\n",
    "colors = [str(x) for x in colors]"
   ]
  },
  {
   "cell_type": "markdown",
   "metadata": {},
   "source": [
    "## Analysis"
   ]
  },
  {
   "cell_type": "markdown",
   "metadata": {},
   "source": [
    "### Graph Loading"
   ]
  },
  {
   "cell_type": "code",
   "execution_count": 3,
   "metadata": {},
   "outputs": [],
   "source": [
    "url = 'http://snap.stanford.edu/data/facebook_combined.txt.gz'\n",
    "#url = 'https://github.com/AllenDowney/ThinkComplexity2/blob/master/code/facebook_combined.txt.gz?raw=true'\n",
    "inmemory = StringIO(urlopen(url).read())\n",
    "with gzip.GzipFile(fileobj=inmemory, mode='rb') as f:\n",
    "    G = nx.read_edgelist(f, nodetype=int)"
   ]
  },
  {
   "cell_type": "markdown",
   "metadata": {},
   "source": [
    "### Minimum Requirements"
   ]
  },
  {
   "cell_type": "markdown",
   "metadata": {},
   "source": [
    "#### Number of nodes and edges"
   ]
  },
  {
   "cell_type": "code",
   "execution_count": 4,
   "metadata": {},
   "outputs": [
    {
     "name": "stdout",
     "output_type": "stream",
     "text": [
      "Number of vertices N =   4039 \n",
      "Number of edges L =  88234\n"
     ]
    }
   ],
   "source": [
    "L = len(G.edges())\n",
    "N = len(G.nodes())\n",
    "print 'Number of vertices N =  ', N, \"\\nNumber of edges L = \", L"
   ]
  },
  {
   "cell_type": "markdown",
   "metadata": {},
   "source": [
    "#### Graph plotting"
   ]
  },
  {
   "cell_type": "code",
   "execution_count": 5,
   "metadata": {},
   "outputs": [
    {
     "data": {
      "image/png": "[encoded data removed]",
      "text/plain": [
       "<matplotlib.figure.Figure at 0x7f6aed753850>"
      ]
     },
     "metadata": {},
     "output_type": "display_data"
    }
   ],
   "source": [
    "plt.close(\"all\")\n",
    "plt.ion()\n",
    "plt.figure(1, figsize=(15, 5))\n",
    "nx.draw(G, with_labels=False)\n",
    "plt.show()"
   ]
  },
  {
   "cell_type": "markdown",
   "metadata": {},
   "source": [
    "#### Degrees"
   ]
  },
  {
   "cell_type": "markdown",
   "metadata": {},
   "source": [
    "##### Real network $\\mathcal{G}$"
   ]
  },
  {
   "cell_type": "markdown",
   "metadata": {},
   "source": [
    "###### Degree sequence generation"
   ]
  },
  {
   "cell_type": "code",
   "execution_count": 6,
   "metadata": {},
   "outputs": [],
   "source": [
    "degree_sequence = sorted([d for n, d in G.degree()], reverse=True)  # degree sequence\n",
    "degreeCount = collections.Counter(degree_sequence)\n",
    "deg, cnt = zip(*degreeCount.items())\n",
    "g_deg_avg = 2*L/N"
   ]
  },
  {
   "cell_type": "markdown",
   "metadata": {},
   "source": [
    "###### Degree histogram plotting"
   ]
  },
  {
   "cell_type": "code",
   "execution_count": 7,
   "metadata": {},
   "outputs": [
    {
     "data": {
      "image/png": "[encoded data removed]",
      "text/plain": [
       "<matplotlib.figure.Figure at 0x7f6ae6846550>"
      ]
     },
     "metadata": {},
     "output_type": "display_data"
    }
   ],
   "source": [
    "plt.close(\"all\")\n",
    "plt.ion()\n",
    "plt.figure(1, figsize=(15, 5))\n",
    "\n",
    "#fig, ax = plt.subplots()\n",
    "plt.bar(deg, cnt, width=0.80, color=random.choice(colors), log=True)\n",
    "\n",
    "plt.title(\"Degree Histogram\")\n",
    "plt.ylabel(\"Count\")\n",
    "plt.xlabel(\"Degree\")\n",
    "#plt.set_xticks([d + 0.4 for d in deg])\n",
    "#plt.set_xticklabels(deg)\n",
    "g_deg_line = plt.axvline(g_deg_avg, color=random.choice(colors), \n",
    "                       linestyle='dashed', linewidth=2, \n",
    "                       label=r'$\\langle k \\rangle$ = '+str(g_deg_avg))\n",
    "plt.legend(handles=[g_deg_line])\n",
    "plt.show()"
   ]
  },
  {
   "cell_type": "code",
   "execution_count": 8,
   "metadata": {},
   "outputs": [
    {
     "name": "stdout",
     "output_type": "stream",
     "text": [
      "Average degree is equal to <k> = 43.6910126269\n"
     ]
    }
   ],
   "source": [
    "print 'Average degree is equal to <k> =', g_deg_avg"
   ]
  },
  {
   "cell_type": "markdown",
   "metadata": {},
   "source": [
    "##### Random network $\\mathcal{R}$ "
   ]
  },
  {
   "cell_type": "markdown",
   "metadata": {},
   "source": [
    "###### $\\mathcal{R}$ generation"
   ]
  },
  {
   "cell_type": "markdown",
   "metadata": {},
   "source": [
    "Let $\\mathcal{R}$ be an Erdos-Reyni graph of same numbers of nodes $N$ and edges $L$"
   ]
  },
  {
   "cell_type": "code",
   "execution_count": 9,
   "metadata": {},
   "outputs": [],
   "source": [
    "R = nx.gnm_random_graph(n=N, m=L, seed=42, directed=False)"
   ]
  },
  {
   "cell_type": "code",
   "execution_count": 10,
   "metadata": {},
   "outputs": [
    {
     "name": "stdout",
     "output_type": "stream",
     "text": [
      "Average degree <k> =  43.6910126269 \n",
      "Probabilty p =  0.0108199635034\n"
     ]
    }
   ],
   "source": [
    "r_deg_avg = 2*L/N #parce que le graphe est non oriente => les liens comptent double {(i,j), (j,i)}\n",
    "p = g_deg_avg/(N-1)\n",
    "print \"Average degree <k> = \", r_deg_avg, \"\\nProbabilty p = \", p"
   ]
  },
  {
   "cell_type": "markdown",
   "metadata": {},
   "source": [
    "###### $\\mathcal{R}$ degree sequence"
   ]
  },
  {
   "cell_type": "code",
   "execution_count": 11,
   "metadata": {},
   "outputs": [],
   "source": [
    "rnd_degree_sequence = sorted([d for n, d in R.degree()], reverse=True)  # degree sequence\n",
    "# print \"Degree sequence\", degree_sequence\n",
    "rnd_degreeCount = collections.Counter(rnd_degree_sequence)\n",
    "rnd_deg, cnt = zip(*rnd_degreeCount.items())"
   ]
  },
  {
   "cell_type": "markdown",
   "metadata": {},
   "source": [
    "###### $\\mathcal{R}$ degree histogram"
   ]
  },
  {
   "cell_type": "code",
   "execution_count": 12,
   "metadata": {},
   "outputs": [
    {
     "data": {
      "image/png": "[encoded data removed]",
      "text/plain": [
       "<matplotlib.figure.Figure at 0x7f6ae8d6c0d0>"
      ]
     },
     "metadata": {},
     "output_type": "display_data"
    }
   ],
   "source": [
    "plt.close(\"all\")\n",
    "plt.ion()\n",
    "plt.figure(1, figsize=(15, 5))\n",
    "\n",
    "avg = 2*L/N\n",
    "#fig, ax = plt.subplots()\n",
    "plt.bar(rnd_deg, cnt, width=0.80, color=random.choice(colors), log=True)\n",
    "\n",
    "plt.title(\"Degree Histogram\")\n",
    "plt.ylabel(\"Count\")\n",
    "plt.xlabel(\"Degree\")\n",
    "#ax.set_xticks([d + 0.4 for d in rnd_deg])\n",
    "#ax.set_xticklabels(rnd_deg)\n",
    "line = plt.axvline(avg, color=random.choice(colors), linestyle='dashed', linewidth=2, \n",
    "                   label=r'$\\langle k \\rangle$ = '+str(avg))\n",
    "plt.legend(handles=[line])\n",
    "plt.show()"
   ]
  },
  {
   "cell_type": "markdown",
   "metadata": {},
   "source": [
    "#### Clustering coefficient"
   ]
  },
  {
   "cell_type": "markdown",
   "metadata": {},
   "source": [
    "##### Real network $\\mathcal{R}$"
   ]
  },
  {
   "cell_type": "markdown",
   "metadata": {},
   "source": [
    "###### Clustering coefficients sequence"
   ]
  },
  {
   "cell_type": "code",
   "execution_count": 13,
   "metadata": {},
   "outputs": [],
   "source": [
    "clust_coefficients = nx.clustering(G)\n",
    "clustering_sequence = sorted(list(clust_coefficients.values()), reverse=True)  # degree sequence\n",
    "#print \"clustering sequence\", clustering_sequence\n",
    "clusteringCount = collections.Counter(clustering_sequence)\n",
    "clus, cnt = zip(*clusteringCount.items())\n",
    "\n",
    "avg_clust=sum(clust_coefficients.values()) / len(clust_coefficients)"
   ]
  },
  {
   "cell_type": "markdown",
   "metadata": {},
   "source": [
    "##### Clustering coefficients histogram"
   ]
  },
  {
   "cell_type": "code",
   "execution_count": 14,
   "metadata": {},
   "outputs": [
    {
     "name": "stdout",
     "output_type": "stream",
     "text": [
      "0.60554671862\n"
     ]
    },
    {
     "data": {
      "image/png": "[encoded data removed]",
      "text/plain": [
       "<matplotlib.figure.Figure at 0x7f6ae9309250>"
      ]
     },
     "metadata": {},
     "output_type": "display_data"
    }
   ],
   "source": [
    "print avg_clust\n",
    "\n",
    "plt.close(\"all\")\n",
    "plt.ion()\n",
    "plt.figure(1, figsize=(15, 5))\n",
    "\n",
    "#fig, ax = plt.subplots()\n",
    "plt.bar(clus, cnt, width=0.80, color=random.choice(colors), log=False)\n",
    "#plt.scatter(clus, cnt)\n",
    "plt.title(\"Clustering Histogram\")\n",
    "plt.ylabel(\"Count\")\n",
    "plt.xlabel(\"Clustering coefficient\")\n",
    "#ax.set_xticks([d + 0.4 for d in clus])\n",
    "#ax.set_xticklabels(clus)\n",
    "line = plt.axvline(avg_clust, color=random.choice(colors), linestyle='dashed', linewidth=2,\n",
    "           label=r'$\\langle C \\rangle = $' + str(avg_clust))\n",
    "plt.legend(handles=[line])\n",
    "plt.show()"
   ]
  },
  {
   "cell_type": "markdown",
   "metadata": {},
   "source": [
    "##### Random network $\\mathcal{R}$"
   ]
  },
  {
   "cell_type": "markdown",
   "metadata": {},
   "source": [
    "###### Clustering coefficients sequence"
   ]
  },
  {
   "cell_type": "code",
   "execution_count": 15,
   "metadata": {},
   "outputs": [],
   "source": [
    "clust_coefficients = nx.clustering(R)\n",
    "clustering_sequence = sorted(list(clust_coefficients.values()), reverse=True)  # degree sequence\n",
    "#print \"clustering sequence\", clustering_sequence\n",
    "clusteringCount = collections.Counter(clustering_sequence)\n",
    "clus, cnt = zip(*clusteringCount.items())\n",
    "\n",
    "avg_clust=sum(clust_coefficients.values()) / len(cnt)"
   ]
  },
  {
   "cell_type": "markdown",
   "metadata": {},
   "source": [
    "###### Clustering coefficients histogram"
   ]
  },
  {
   "cell_type": "code",
   "execution_count": 16,
   "metadata": {},
   "outputs": [
    {
     "name": "stdout",
     "output_type": "stream",
     "text": [
      "<C> =  0.088515210093\n"
     ]
    },
    {
     "data": {
      "image/png": "[encoded data removed]",
      "text/plain": [
       "<matplotlib.figure.Figure at 0x7f6ae735ea50>"
      ]
     },
     "metadata": {},
     "output_type": "display_data"
    }
   ],
   "source": [
    "print '<C> = ', avg_clust\n",
    "\n",
    "plt.close(\"all\")\n",
    "plt.ion()\n",
    "plt.figure(1, figsize=(15, 5))\n",
    "\n",
    "#fig, ax = plt.subplots()\n",
    "plt.bar(clus, cnt, color=random.choice(colors), width=0.80, log=False)\n",
    "\n",
    "plt.title(\"Clustering Histogram\")\n",
    "plt.ylabel(\"Count\")\n",
    "plt.xlabel(\"Clustering coefficient\")\n",
    "#ax.set_xticks([d + 0.4 for d in clus])\n",
    "#ax.set_xticklabels(clus)\n",
    "line = plt.axvline(avg_clust, color=random.choice(colors), linestyle='dashed', linewidth=2,\n",
    "                  label = r'$\\langle C \\rangle = $' + str(avg_clust)) \n",
    "plt.legend(handles=[line])\n",
    "plt.show()"
   ]
  },
  {
   "cell_type": "markdown",
   "metadata": {},
   "source": [
    "#### Distance"
   ]
  },
  {
   "cell_type": "markdown",
   "metadata": {},
   "source": [
    "##### Real network $\\mathcal{G}$"
   ]
  },
  {
   "cell_type": "markdown",
   "metadata": {},
   "source": [
    "###### Distances calculation"
   ]
  },
  {
   "cell_type": "code",
   "execution_count": 42,
   "metadata": {},
   "outputs": [],
   "source": [
    "path = dict(nx.shortest_path_length(G)) "
   ]
  },
  {
   "cell_type": "code",
   "execution_count": null,
   "metadata": {},
   "outputs": [],
   "source": [
    "reform = {(outerKey, innerKey): values for outerKey, innerDict in path.iteritems() for innerKey, values in innerDict.iteritems()}\n",
    "\n",
    "df = pd.Series(reform).rename_axis(['src', 'target']).reset_index(name='path')"
   ]
  },
  {
   "cell_type": "code",
   "execution_count": null,
   "metadata": {},
   "outputs": [],
   "source": [
    "avg_dist = nx.average_shortest_path_length(G)\n",
    "\n",
    "diameter = nx.diameter(G)"
   ]
  },
  {
   "cell_type": "code",
   "execution_count": null,
   "metadata": {},
   "outputs": [],
   "source": [
    "avg_dist = np.mean(df['path'])\n",
    "diameter = np.max(df['path'])"
   ]
  },
  {
   "cell_type": "code",
   "execution_count": null,
   "metadata": {},
   "outputs": [],
   "source": [
    "distance = sorted(list(reform.values()), reverse=True)  # degree sequence\n",
    "#print \"clustering sequence\", clustering_sequence\n",
    "distCount = collections.Counter(distance)\n",
    "dist, cnt = zip(*distCount.items())\n",
    "\n",
    "#avg_dist= np.mean(dist)\n",
    "print '<d> = ', avg_dist, '\\ndmax = ', diameter"
   ]
  },
  {
   "cell_type": "markdown",
   "metadata": {},
   "source": [
    "###### Distances histogram"
   ]
  },
  {
   "cell_type": "code",
   "execution_count": null,
   "metadata": {},
   "outputs": [],
   "source": [
    "plt.close(\"all\")\n",
    "plt.ion()\n",
    "plt.figure(1, figsize=(15, 5))\n",
    "\n",
    "#fig, ax = plt.subplots()\n",
    "plt.bar(dist, cnt, width=0.80, color=random.choice(colors), log=True)\n",
    "\n",
    "plt.title(\"Distance Histogram\")\n",
    "plt.ylabel(\"Count\")\n",
    "plt.xlabel(\"Distances\")\n",
    "#ax.set_xticks([d + 0.4 for d in clus])\n",
    "#ax.set_xticklabels(clus)\n",
    "line_avg = plt.axvline(avg_dist, color=random.choice(colors), linestyle='dashed', linewidth=2,\n",
    "                      label = r'$\\langle d \\rangle = $' + str(avg_dist))\n",
    "line_diameter = plt.axvline(diameter, color=random.choice(colors), linestyle='dashed', linewidth=2,\n",
    "                      label = r'$d_{max} = $' + str(diameter))\n",
    "plt.legend(handles=[line_avg, line_diameter])\n",
    "plt.show()"
   ]
  },
  {
   "cell_type": "markdown",
   "metadata": {},
   "source": [
    "###### Ultra-small world property"
   ]
  },
  {
   "cell_type": "code",
   "execution_count": null,
   "metadata": {},
   "outputs": [],
   "source": [
    "print avg_dist/(np.log(N)/np.log(np.log(N)))"
   ]
  },
  {
   "cell_type": "markdown",
   "metadata": {},
   "source": [
    "##### Random network $\\mathcal{R}$"
   ]
  },
  {
   "cell_type": "markdown",
   "metadata": {},
   "source": [
    "###### Distances calculation"
   ]
  },
  {
   "cell_type": "code",
   "execution_count": null,
   "metadata": {},
   "outputs": [],
   "source": [
    "r_path = dict(nx.shortest_path_length(R)) "
   ]
  },
  {
   "cell_type": "code",
   "execution_count": null,
   "metadata": {},
   "outputs": [],
   "source": [
    "r_reform = {(outerKey, innerKey): values for outerKey, innerDict in r_path.iteritems() for innerKey, values in innerDict.iteritems()}\n",
    "r_df = pd.Series(reform).rename_axis(['src', 'target']).reset_index(name='path')"
   ]
  },
  {
   "cell_type": "code",
   "execution_count": null,
   "metadata": {},
   "outputs": [],
   "source": [
    "r_avg_dist = nx.average_shortest_path_length(R)\n",
    "r_diameter = nx.diameter(R)"
   ]
  },
  {
   "cell_type": "code",
   "execution_count": null,
   "metadata": {},
   "outputs": [],
   "source": [
    "r_avg_dist = np.mean(r_df['path'])\n",
    "r_diameter = np.max(r_df['path'])"
   ]
  },
  {
   "cell_type": "code",
   "execution_count": null,
   "metadata": {},
   "outputs": [],
   "source": [
    "r_distance = sorted(list(r_reform.values()), reverse=True)  # degree sequence\n",
    "#print \"clustering sequence\", clustering_sequence\n",
    "r_distCount = collections.Counter(r_distance)\n",
    "r_dist, r_cnt = zip(*r_distCount.items())\n",
    "\n",
    "#avg_dist= np.mean(dist)\n",
    "print '<d> = ', r_avg_dist, '\\ndmax = ', r_diameter"
   ]
  },
  {
   "cell_type": "markdown",
   "metadata": {},
   "source": [
    "###### Distances histogram"
   ]
  },
  {
   "cell_type": "code",
   "execution_count": null,
   "metadata": {},
   "outputs": [],
   "source": [
    "plt.close(\"all\")\n",
    "plt.ion()\n",
    "plt.figure(1, figsize=(15, 5))\n",
    "\n",
    "#fig, ax = plt.subplots()\n",
    "plt.bar(r_dist, r_cnt, width=0.80, color=random.choice(colors), log=True)\n",
    "\n",
    "plt.title(\"Distance Histogram\")\n",
    "plt.ylabel(\"Count\")\n",
    "plt.xlabel(\"Distances\")\n",
    "#ax.set_xticks([d + 0.4 for d in clus])\n",
    "#ax.set_xticklabels(clus)\n",
    "line_avg = plt.axvline(r_avg_dist, color=random.choice(colors), linestyle='dashed', linewidth=2,\n",
    "                      label = r'$\\langle d \\rangle = $' + str(r_avg_dist))\n",
    "line_diameter = plt.axvline(r_diameter, color=random.choice(colors), linestyle='dashed', linewidth=2,\n",
    "                      label = r'$d_{max} = $' + str(r_diameter))\n",
    "plt.legend(handles=[line_avg, line_diameter])\n",
    "plt.show()"
   ]
  },
  {
   "cell_type": "markdown",
   "metadata": {},
   "source": [
    "###### Ultra-small world property"
   ]
  },
  {
   "cell_type": "code",
   "execution_count": null,
   "metadata": {},
   "outputs": [],
   "source": [
    "print r_avg_dist/np.log(np.log(N))"
   ]
  },
  {
   "cell_type": "markdown",
   "metadata": {},
   "source": [
    "### Extra requirements"
   ]
  },
  {
   "cell_type": "markdown",
   "metadata": {},
   "source": [
    "#### Communities"
   ]
  },
  {
   "cell_type": "code",
   "execution_count": null,
   "metadata": {},
   "outputs": [],
   "source": [
    "#first compute the best partition\n",
    "partition = community.best_partition(G)"
   ]
  },
  {
   "cell_type": "code",
   "execution_count": null,
   "metadata": {},
   "outputs": [],
   "source": [
    "len(np.unique(partition.values()))"
   ]
  },
  {
   "cell_type": "code",
   "execution_count": null,
   "metadata": {},
   "outputs": [],
   "source": [
    "#drawing\n",
    "plt.close(\"all\")\n",
    "plt.ion()\n",
    "plt.figure(1, figsize=(15, 5))\n",
    "\n",
    "size = float(len(set(partition.values())))\n",
    "pos = nx.spring_layout(G)\n",
    "count = 0.\n",
    "draw_nodes=[]\n",
    "for com in set(partition.values()) :\n",
    "    count = count + 1.\n",
    "    node_color=random.choice(colors)\n",
    "    label = str(node_color).split(':', 1)[-1]\n",
    "    #print (str(count/size))\n",
    "    list_nodes = [nodes for nodes in partition.keys()\n",
    "                                if partition[nodes] == com]\n",
    "    draw_nodes.append(nx.draw_networkx_nodes(G, pos, list_nodes, node_size = 100,\n",
    "                                node_color=node_color, label = label))\n",
    "\n",
    "\n",
    "nx.draw_networkx_edges(G,pos, alpha=0.5)\n",
    "plt.legend(handles = draw_nodes)\n",
    "plt.title(r'Communities of $\\mathcal{G}$')\n",
    "plt.show()"
   ]
  },
  {
   "cell_type": "markdown",
   "metadata": {},
   "source": [
    "#### Triangles"
   ]
  },
  {
   "cell_type": "code",
   "execution_count": null,
   "metadata": {},
   "outputs": [],
   "source": [
    "g_triangles = np.sum(nx.triangles(G).values())\n",
    "r_triangles =  np.sum(nx.triangles(R).values()) \n",
    "print 'G has ', g_triangles, 'triangles\\nR has ', r_triangles, 'triangles'"
   ]
  },
  {
   "cell_type": "markdown",
   "metadata": {},
   "source": [
    "#### Centrality measures"
   ]
  },
  {
   "cell_type": "markdown",
   "metadata": {},
   "source": [
    "##### Betweenness"
   ]
  },
  {
   "cell_type": "markdown",
   "metadata": {},
   "source": [
    "###### Computation"
   ]
  },
  {
   "cell_type": "code",
   "execution_count": null,
   "metadata": {},
   "outputs": [],
   "source": [
    "centrality = nx.betweenness_centrality(G, normalized=True, seed=42)\n",
    "r_centrality = nx.betweenness_centrality(R, normalized=True, seed=42)"
   ]
  },
  {
   "cell_type": "code",
   "execution_count": null,
   "metadata": {},
   "outputs": [],
   "source": [
    "center, cnt = zip(*centrality.items())\n",
    "r_center, r_cnt = zip(*r_centrality.items())\n",
    "central_node = max(centrality, key=centrality.get)\n",
    "r_central_node = max(r_centrality, key=r_centrality.get)"
   ]
  },
  {
   "cell_type": "code",
   "execution_count": null,
   "metadata": {},
   "outputs": [],
   "source": [
    "np.unique([x-y for x, y in zip(cnt, r_cnt)])"
   ]
  },
  {
   "cell_type": "code",
   "execution_count": null,
   "metadata": {},
   "outputs": [],
   "source": [
    "np.average(r_cnt), np.max(r_cnt), np.min(r_cnt)"
   ]
  },
  {
   "cell_type": "code",
   "execution_count": null,
   "metadata": {},
   "outputs": [],
   "source": [
    "np.average(cnt), np.max(cnt), np.min(cnt)"
   ]
  },
  {
   "cell_type": "markdown",
   "metadata": {},
   "source": [
    "###### Betweenness Histogram"
   ]
  },
  {
   "cell_type": "code",
   "execution_count": null,
   "metadata": {},
   "outputs": [],
   "source": [
    "plt.close(\"all\")\n",
    "plt.ion()\n",
    "plt.figure(1, figsize=(15, 5))\n",
    "\n",
    "#fig, ax = plt.subplots()\n",
    "plt.subplot(2, 1, 1)\n",
    "g_bar = plt.bar(center, cnt, alpha=0.5,width=0.80, color=random.choice(colors), log=True, label=r'$\\mathcal{G}$')\n",
    "g_central_line = plt.axvline(central_node, color=random.choice(colors), linestyle='dashed', \n",
    "            linewidth=2, label=r\"$\\mathcal{G}$'s central Node $i_{center} = $\" + str(central_node), visible=True)\n",
    "plt.legend(handles=[g_bar, g_central_line])\n",
    "plt.title(\"Centrality Histogram\")\n",
    "plt.ylabel(\"Count\")\n",
    "plt.subplot(2, 1, 2)\n",
    "r_bar = plt.bar(r_center, r_cnt, width=0.80, alpha=0.5, color=random.choice(colors), log=True, label=r'$\\mathcal{R}$')\n",
    "r_central_line = plt.axvline(r_central_node, color=random.choice(colors), linestyle='dashed', \n",
    "            linewidth=2, label=r\"$\\mathcal{R}$'s central Node $i_{center} = $\" + str(r_central_node), visible=True)\n",
    "plt.ylabel(\"Count\")\n",
    "plt.xlabel(\"Centrality coefficient\")\n",
    "plt.legend(handles=[r_bar,  r_central_line])\n",
    "plt.show()"
   ]
  },
  {
   "cell_type": "markdown",
   "metadata": {},
   "source": [
    "##### PageRank"
   ]
  },
  {
   "cell_type": "markdown",
   "metadata": {},
   "source": [
    "###### Computation"
   ]
  },
  {
   "cell_type": "code",
   "execution_count": null,
   "metadata": {},
   "outputs": [],
   "source": [
    "pagerank = nx.pagerank_scipy(G,)\n",
    "nodes, cnt = zip(*pagerank.items())\n",
    "pagerank_node = max(pagerank, key=pagerank.get)\n",
    "r_pagerank = nx.pagerank_scipy(R,)\n",
    "r_nodes, r_cnt = zip(*r_pagerank.items())\n",
    "r_pagerank_node = max(r_pagerank, key=r_pagerank.get)"
   ]
  },
  {
   "cell_type": "code",
   "execution_count": null,
   "metadata": {},
   "outputs": [],
   "source": [
    "np.unique([x-y for x, y in zip(cnt, r_cnt)])"
   ]
  },
  {
   "cell_type": "markdown",
   "metadata": {},
   "source": [
    "###### PageRank Histogram"
   ]
  },
  {
   "cell_type": "code",
   "execution_count": null,
   "metadata": {},
   "outputs": [],
   "source": [
    "plt.close(\"all\")\n",
    "plt.ion()\n",
    "plt.figure(1, figsize=(15, 5))\n",
    "\n",
    "#fig, ax = plt.subplots()\n",
    "plt.subplot(2, 1, 1)\n",
    "g_bar = plt.bar(nodes, cnt, width=0.80, alpha=0.5,color=random.choice(colors), log=False, label=r'$\\mathcal{G}$')\n",
    "pagerank_line = plt.axvline(pagerank_node, color=random.choice(colors), linestyle='dashed',\n",
    "            linewidth=2, label=r\"$\\mathcal{G}$'s highest PageRanked node\", visible=True)\n",
    "plt.title(\"PageRank Histogram\")\n",
    "plt.ylabel(\"Count\")\n",
    "plt.legend(handles=[g_bar, pagerank_line])\n",
    "plt.subplot(2, 1, 2)\n",
    "r_bar = plt.bar(r_nodes, r_cnt, width=0.80, alpha=0.5,color=random.choice(colors), log=False, label=r'$\\mathcal{R}$')\n",
    "r_pagerank_line = plt.axvline(r_pagerank_node, color=random.choice(colors), linestyle='dashed',\n",
    "            linewidth=2, label=r\"$\\mathcal{R}$'s highest PageRanked node\", visible=True)\n",
    "plt.xlabel(\"PageRank coefficient\")\n",
    "plt.ylabel(\"Count\")\n",
    "plt.legend(handles=[r_bar, r_pagerank_line])\n",
    "plt.show()"
   ]
  }
 ],
 "metadata": {
  "kernelspec": {
   "display_name": "Python 2",
   "language": "python",
   "name": "python2"
  },
  "language_info": {
   "codemirror_mode": {
    "name": "ipython",
    "version": 2
   },
   "file_extension": ".py",
   "mimetype": "text/x-python",
   "name": "python",
   "nbconvert_exporter": "python",
   "pygments_lexer": "ipython2",
   "version": "2.7.12"
  }
 },
 "nbformat": 4,
 "nbformat_minor": 1
}
